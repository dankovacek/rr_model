{
 "cells": [
  {
   "cell_type": "code",
   "execution_count": 1,
   "metadata": {},
   "outputs": [],
   "source": [
    "import numpy as np\n",
    "import pandas as pd\n",
    "\n",
    "from ipywidgets import interact\n",
    "from ipywidgets.widgets import FloatSlider, IntSlider, Dropdown\n",
    "import matplotlib.pyplot as plt\n",
    "\n",
    "plt.ion()"
   ]
  },
  {
   "cell_type": "markdown",
   "metadata": {},
   "source": [
    "# Import the raw data"
   ]
  },
  {
   "cell_type": "code",
   "execution_count": 2,
   "metadata": {},
   "outputs": [],
   "source": [
    "df = pd.read_csv('data/data.csv', parse_dates=True, infer_datetime_format=True)"
   ]
  },
  {
   "cell_type": "code",
   "execution_count": 3,
   "metadata": {},
   "outputs": [],
   "source": [
    "def calculate_S1(row):\n",
    "    if row.index == 0:\n",
    "        return t1_init\n",
    "    else:\n",
    "        return 0\n",
    "    \n",
    "def calculate_Q1(row):\n",
    "    q = a1 * (row['S1 (mm)'] - h1)**m1\n",
    "    if q > 0:\n",
    "        return q\n",
    "    else:\n",
    "        return 0\n",
    "\n",
    "def initialize_df(df):\n",
    "    # initialize the columns\n",
    "    df['S1 (mm)'] = np.nan\n",
    "    df.loc[0, 'S1 (mm)'] = t1_init\n",
    "    df['Q1 (mm/h)'] = np.nan\n",
    "    df['Q12 (mm/h)'] = np.nan\n",
    "    df['S2 (mm)'] = np.nan\n",
    "    df.loc[0, 'S2 (mm)'] = t2_init\n",
    "    df['Q2 (mm/h)'] = np.nan\n",
    "    df['Q1+Q2 (mm/h)'] = np.nan\n",
    "    return df\n"
   ]
  },
  {
   "cell_type": "markdown",
   "metadata": {},
   "source": [
    "## set initial parameters"
   ]
  },
  {
   "cell_type": "code",
   "execution_count": 4,
   "metadata": {},
   "outputs": [],
   "source": [
    "# Tank 1:\n",
    "a1 = 0.02\n",
    "m1 = 1.5\n",
    "h1 = 1.8\n",
    "\n",
    "a12 = 0.021\n",
    "m12 = 1.\n",
    "h12 = 0.\n",
    "\n",
    "t1_init = 1.0 # mm initial something\n",
    "\n",
    "# Tank 2:\n",
    "a2 = 0.02\n",
    "m2 = 1.3\n",
    "h2 = 0.\n",
    "\n",
    "t2_init = 1.0"
   ]
  },
  {
   "cell_type": "markdown",
   "metadata": {},
   "source": [
    "### Interactive Inputs"
   ]
  },
  {
   "cell_type": "code",
   "execution_count": null,
   "metadata": {},
   "outputs": [],
   "source": []
  },
  {
   "cell_type": "code",
   "execution_count": 12,
   "metadata": {},
   "outputs": [],
   "source": [
    "def plot_model(a1, m1, h1,\n",
    "              a12, m12, h12,\n",
    "               a2, m2, h2,\n",
    "               t1_init,\n",
    "               t2_init\n",
    "              ):\n",
    "    df = initialize_df(df)\n",
    "\n",
    "    for i in range(len(df)):\n",
    "        if i == 0:\n",
    "            this_s1 = t1_init\n",
    "            this_s2 = t2_init\n",
    "\n",
    "        else:\n",
    "            q1_balance = (df.loc[i, 'Rain (mm/h)'] - df.loc[i, 'Evap (mm/h)'] - df.loc[i - 1, 'Q1 (mm/h)'] - df.loc[i - 1, 'Q12 (mm/h)'])/3\n",
    "            this_s1 = max(0, df.loc[i - 1, 'S1 (mm)'] + q1_balance)\n",
    "\n",
    "            delta_q2 = df.loc[i - 1, 'S2 (mm)'] + (df.loc[i - 1, 'Q12 (mm/h)'] - df.loc[i - 1, 'Q2 (mm/h)'])/3\n",
    "            this_s2 = max(0, delta_q2)\n",
    "\n",
    "        df.loc[i, 'S1 (mm)'] = this_s1\n",
    "        df.loc[i, 'S2 (mm)'] = this_s2\n",
    "\n",
    "        if this_s1 > h1:\n",
    "            df.loc[i, 'Q1 (mm/h)'] = a1 * (this_s1 - h1)**m1\n",
    "        else:\n",
    "            df.loc[i, 'Q1 (mm/h)'] = 0\n",
    "\n",
    "        if this_s1 > h12:\n",
    "            df.loc[i, 'Q12 (mm/h)'] = a12 * (this_s1 - h12)**m12\n",
    "        else:\n",
    "            df.loc[i, 'Q12 (mm/h)'] = 0\n",
    "\n",
    "        if this_s1 > h2:\n",
    "            df.loc[i, 'Q2 (mm/h)'] = a2 * (this_s2 - h2)**m2\n",
    "\n",
    "        df.loc[i, 'Q1+Q2 (mm/h)'] = df.loc[i, 'Q1 (mm/h)'] + df.loc[i, 'Q2 (mm/h)']\n",
    "    \n",
    "    fig, ax = plt.subplots(2, 1, figsize=(16,6), sharex=True)\n",
    "    df.plot('Date', 'Runoff (mm/h)', label='Observed', ax=ax[0], title='Observed vs. Simulated Runoff')\n",
    "    df.plot('Date', 'Q1+Q2 (mm/h)', label='Simulated', ax=ax[0])\n",
    "    df.plot('Date', 'Q1 (mm/h)', label='Tank 1', ax=ax[1])\n",
    "    df.plot('Date', 'Q2 (mm/h)', label='Tank 2', ax=ax[1])\n",
    "    ax[0].set_ylabel('Runoff (mm/h)')\n",
    "    ax[1].set_ylabel('Runoff (mm/h)')\n",
    "    plt.show()\n",
    "#     return df"
   ]
  },
  {
   "cell_type": "code",
   "execution_count": 14,
   "metadata": {},
   "outputs": [
    {
     "ename": "TypeError",
     "evalue": "__init__() takes from 1 to 2 positional arguments but 4 were given",
     "output_type": "error",
     "traceback": [
      "\u001b[0;31m---------------------------------------------------------------------------\u001b[0m",
      "\u001b[0;31mTypeError\u001b[0m                                 Traceback (most recent call last)",
      "\u001b[0;32m<ipython-input-14-34102dcf08ef>\u001b[0m in \u001b[0;36m<module>\u001b[0;34m\u001b[0m\n\u001b[1;32m     10\u001b[0m \u001b[0;31m# p = interact(plot_data, ii=IntSlider(0, 0, 99), cmap=Dropdown(options=cmaps))\u001b[0m\u001b[0;34m\u001b[0m\u001b[0;34m\u001b[0m\u001b[0;34m\u001b[0m\u001b[0m\n\u001b[1;32m     11\u001b[0m p = interact(plot_model, \n\u001b[0;32m---> 12\u001b[0;31m              \u001b[0ma1\u001b[0m\u001b[0;34m=\u001b[0m\u001b[0mFloatSlider\u001b[0m\u001b[0;34m(\u001b[0m\u001b[0;36m0\u001b[0m\u001b[0;34m,\u001b[0m \u001b[0;36m2\u001b[0m\u001b[0;34m,\u001b[0m \u001b[0;36m0.01\u001b[0m\u001b[0;34m)\u001b[0m\u001b[0;34m,\u001b[0m\u001b[0;34m\u001b[0m\u001b[0;34m\u001b[0m\u001b[0m\n\u001b[0m\u001b[1;32m     13\u001b[0m              \u001b[0mm1\u001b[0m\u001b[0;34m=\u001b[0m\u001b[0mFloatSlider\u001b[0m\u001b[0;34m(\u001b[0m\u001b[0;36m0\u001b[0m\u001b[0;34m,\u001b[0m \u001b[0;36m2\u001b[0m\u001b[0;34m,\u001b[0m \u001b[0;36m0.01\u001b[0m\u001b[0;34m)\u001b[0m\u001b[0;34m,\u001b[0m\u001b[0;34m\u001b[0m\u001b[0;34m\u001b[0m\u001b[0m\n\u001b[1;32m     14\u001b[0m              \u001b[0mh1\u001b[0m\u001b[0;34m=\u001b[0m\u001b[0mFloatSlider\u001b[0m\u001b[0;34m(\u001b[0m\u001b[0;36m0\u001b[0m\u001b[0;34m,\u001b[0m \u001b[0;36m2\u001b[0m\u001b[0;34m,\u001b[0m \u001b[0;36m0.01\u001b[0m\u001b[0;34m)\u001b[0m\u001b[0;34m,\u001b[0m\u001b[0;34m\u001b[0m\u001b[0;34m\u001b[0m\u001b[0m\n",
      "\u001b[0;31mTypeError\u001b[0m: __init__() takes from 1 to 2 positional arguments but 4 were given"
     ]
    }
   ],
   "source": [
    "\n",
    "cmaps = ['coolwarm', 'viridis', 'magma']\n",
    "def plot_data(ii, cmap):\n",
    "    fig, ax = plt.subplots()\n",
    "    cmap = plt.get_cmap(cmap)\n",
    "    color = cmap(ii / 100.)\n",
    "    ax.plot(data[ii], color=color)\n",
    "\n",
    "    plt.show()\n",
    "    \n",
    "# p = interact(plot_data, ii=IntSlider(0, 0, 99), cmap=Dropdown(options=cmaps))\n",
    "p = interact(plot_model, \n",
    "             a1=FloatSlider(0, 2, 0.01), \n",
    "             m1=FloatSlider(0, 2, 0.01), \n",
    "\n",
    "            )"
   ]
  },
  {
   "cell_type": "code",
   "execution_count": null,
   "metadata": {},
   "outputs": [],
   "source": []
  }
 ],
 "metadata": {
  "kernelspec": {
   "display_name": "Python 3",
   "language": "python",
   "name": "python3"
  },
  "language_info": {
   "codemirror_mode": {
    "name": "ipython",
    "version": 3
   },
   "file_extension": ".py",
   "mimetype": "text/x-python",
   "name": "python",
   "nbconvert_exporter": "python",
   "pygments_lexer": "ipython3",
   "version": "3.6.8"
  }
 },
 "nbformat": 4,
 "nbformat_minor": 4
}
