{
 "cells": [
  {
   "cell_type": "code",
   "execution_count": 1,
   "metadata": {},
   "outputs": [],
   "source": [
    "import numpy as np\n",
    "import pandas as pd\n",
    "import time\n",
    "\n",
    "from ipywidgets import interact, interactive\n",
    "from ipywidgets.widgets import FloatSlider, IntSlider, Dropdown\n",
    "from ipywidgets import Button, HBox, VBox, Layout\n",
    "import matplotlib.pyplot as plt\n",
    "import matplotlib.gridspec as gridspec\n",
    "\n",
    "plt.ion()"
   ]
  },
  {
   "cell_type": "code",
   "execution_count": 2,
   "metadata": {},
   "outputs": [],
   "source": [
    "def initialize_df(df):\n",
    "    # initialize the columns\n",
    "    df['S1 (mm)'] = np.nan\n",
    "    df['Q1 (mm/h)'] = np.nan\n",
    "    df['Q12 (mm/h)'] = np.nan\n",
    "    df['S2 (mm)'] = np.nan\n",
    "    df['Q2 (mm/h)'] = np.nan\n",
    "    df['Q1+Q2 (mm/h)'] = np.nan\n",
    "    return df\n"
   ]
  },
  {
   "cell_type": "markdown",
   "metadata": {},
   "source": [
    "### Interactive Inputs"
   ]
  },
  {
   "cell_type": "code",
   "execution_count": 3,
   "metadata": {},
   "outputs": [],
   "source": [
    "def update_df(a1, m1, h1, a12, m12, h12, a2, m2, h2, t1_init, t2_init):\n",
    "    time0 = time.time()\n",
    "    df = initialize_df(pd.read_csv('data/data.csv', parse_dates=True, infer_datetime_format=True))\n",
    "    time1 = time.time()\n",
    "#     print('Loading time = {:.2f}'.format(time1 - time0))\n",
    "        \n",
    "    for i in range(len(df)):\n",
    "        if i == 0:\n",
    "            this_s1 = t1_init\n",
    "            this_s2 = t2_init\n",
    "        else:\n",
    "            q1_balance = (df.at[i, 'Rain (mm/h)'] - df.at[i, 'Evap (mm/h)'] - df.at[i - 1, 'Q1 (mm/h)'] - df.at[i - 1, 'Q12 (mm/h)'])/3\n",
    "            this_s1 = max(0, df.at[i - 1, 'S1 (mm)'] + q1_balance)\n",
    "\n",
    "            delta_q2 = df.at[i - 1, 'S2 (mm)'] + (df.at[i - 1, 'Q12 (mm/h)'] - df.at[i - 1, 'Q2 (mm/h)'])/3\n",
    "            this_s2 = max(0, delta_q2)\n",
    "\n",
    "        df.at[i, 'S1 (mm)'] = this_s1\n",
    "        df.at[i, 'S2 (mm)'] = this_s2\n",
    "\n",
    "        if this_s1 > h1:\n",
    "            df.at[i, 'Q1 (mm/h)'] = a1 * (this_s1 - h1)**m1\n",
    "        else:\n",
    "            df.at[i, 'Q1 (mm/h)'] = 0\n",
    "\n",
    "        if this_s1 > h12:\n",
    "            df.at[i, 'Q12 (mm/h)'] = a12 * (this_s1 - h12)**m12\n",
    "        else:\n",
    "            df.at[i, 'Q12 (mm/h)'] = 0\n",
    "\n",
    "        if this_s1 > h2:\n",
    "            df.at[i, 'Q2 (mm/h)'] = a2 * (this_s2 - h2)**m2\n",
    "\n",
    "        df.at[i, 'Q1+Q2 (mm/h)'] = df.at[i, 'Q1 (mm/h)'] + df.at[i, 'Q2 (mm/h)']\n",
    "    time2 = time.time()\n",
    "#     print('Time for full recalculation {:.2f}'.format(time2 - time1))\n",
    "    return df"
   ]
  },
  {
   "cell_type": "code",
   "execution_count": 19,
   "metadata": {},
   "outputs": [],
   "source": [
    "def plot_model(a1, m1, h1, a12, m12, h12, a2, m2, h2, t1_init, t2_init):\n",
    "    df = update_df(a1, m1, h1, a12, m12, h12, a2, m2, h2, t1_init, t2_init)\n",
    "    \n",
    "    fig = plt.figure(constrained_layout=True, figsize=(16, 6))\n",
    "    gs = fig.add_gridspec(2, 5)\n",
    "    \n",
    "    # Plot Measured vs. Simuilated Runoff\n",
    "    f1_ax = fig.add_subplot(gs[0, :3])\n",
    "    df.plot('Date', 'Runoff (mm/h)', label='Observed', ax=f1_ax, title='Observed vs. Simulated Runoff')\n",
    "    df.plot('Date', 'Q1+Q2 (mm/h)', label='Simulated', ax=f1_ax)\n",
    "    \n",
    "    f1_ax.set_ylabel('Runoff (mm/h)')\n",
    "    f1_ax.set_ylabel('Runoff (mm/h)')\n",
    "    \n",
    "    # Tank 1 and Tank 2 flow plot    \n",
    "    f2_ax = fig.add_subplot(gs[1, :3])\n",
    "    df.plot('Date', 'Q1 (mm/h)', label='Tank 1', ax=f2_ax)\n",
    "    df.plot('Date', 'Q2 (mm/h)', label='Tank 2', ax=f2_ax)\n",
    "    f2_ax.set_ylabel('Runoff (mm/h)')\n",
    "    f2_ax.set_ylabel('Runoff (mm/h)')\n",
    "    \n",
    "    # Regression Plot\n",
    "    f3_ax = fig.add_subplot(gs[:, 3:])\n",
    "    df.plot('Runoff (mm/h)', 'Q1+Q2 (mm/h)', kind='scatter',\n",
    "            ax=f3_ax, title=\"Measured vs. Simulated Regression\")\n",
    "    \n",
    "    \n",
    "    # drop NaN values for Least-Squares fit\n",
    "    df.dropna(inplace=True)\n",
    "    \n",
    "    # Best-fit line for regression plot\n",
    "    fit = np.polyfit(df['Runoff (mm/h)'], df['Q1+Q2 (mm/h)'], 1)\n",
    "    fit_df = pd.DataFrame()\n",
    "    fit_df['x'] = np.linspace(df['Runoff (mm/h)'].min(), df['Runoff (mm/h)'].max(), 100)\n",
    "    fit_df['y'] = [fit[0] * e + fit[1] for e in fit_df['x']]\n",
    "    fit_df.plot('x', 'y', kind='line', ax=f3_ax, color='red')\n",
    "    \n",
    "    # calculate the R^2 and the NSE\n",
    "    df['square_diff_Q1_Q2'] = (df['Runoff (mm/h)'] - df['Q1+Q2 (mm/h)'])**2\n",
    "    \n",
    "    # set a lower limit value to avoid divide by zero errors    \n",
    "    df = df[(df['Q1+Q2 (mm/h)'] != 0) & (df['Runoff (mm/h)'] != 0)].copy()\n",
    "    df['log_square_diff_Q1_Q2'] = (np.log(df['Runoff (mm/h)']) - np.log(df['Q1+Q2 (mm/h)']))**2\n",
    "#     df['log_square_diff_Q1_Q2'] = df[np.isfinite(df['log_square_diff_Q1_Q2'])]['log_square_diff_Q1_Q2']\n",
    "    nse = 1 - df['square_diff_Q1_Q2'].mean() / np.var(df['Runoff (mm/h)'])\n",
    "#     log_nse = df['log_square_diff_Q1_Q2'].mean() / np.var(df['Runoff (mm/h)'])\n",
    "    performance_str = 'NSE: {:.2f}'.format(nse)#' \\n log NSE: {:.2f}'.format(nse, log_nse)\n",
    "    plt.annotate(performance_str, xy=(0, 0),\n",
    "                   xytext=(5, 340),\n",
    "                   textcoords=\"offset points\",\n",
    "                   ha='left', va='center',\n",
    "                   color='black', weight='bold', \n",
    "                   clip_on=True)\n",
    "    \n",
    "    f3_ax.set_xlim(0, 8)"
   ]
  },
  {
   "cell_type": "markdown",
   "metadata": {},
   "source": [
    "![Diagram](img/water_balance.png)]\n",
    "\n",
    "$$Q_1 = a_1 \\cdot (S_1 - h12)^{m1}$$\n",
    "$$Q_12 = a_{12} \\cdot S_1^{m12}$$\n",
    "$$Q_2 = a_{2} \\cdot S_2^{m2}$$"
   ]
  },
  {
   "cell_type": "code",
   "execution_count": 20,
   "metadata": {},
   "outputs": [
    {
     "data": {
      "application/vnd.jupyter.widget-view+json": {
       "model_id": "5540d4c1ce474d3d9d11897c2952458e",
       "version_major": 2,
       "version_minor": 0
      },
      "text/plain": [
       "interactive(children=(FloatSlider(value=0.02, description='a1', max=2.0, step=0.01), FloatSlider(value=1.5, de…"
      ]
     },
     "metadata": {},
     "output_type": "display_data"
    }
   ],
   "source": [
    "w = interact(plot_model, \n",
    "             a1=FloatSlider(min=0., max=2., step=0.01, value=0.02),#, continuous_update=False, orientation='vertical'), \n",
    "             m1=FloatSlider(min=0., max=2., step=0.01, value=1.5),#, continuous_update=False, orientation='vertical'),\n",
    "             h1=FloatSlider(min=0., max=2., step=0.01, value=1.8),#, continuous_update=False, orientation='vertical'),\n",
    "             a12=FloatSlider(min=0., max=2., step=0.01, value=0.021),#, continuous_update=False, orientation='vertical'),\n",
    "             m12=FloatSlider(min=0., max=2., step=0.01, value=1.),#, continuous_update=False, orientation='vertical'),\n",
    "             h12=FloatSlider(min=0., max=2., step=0.01, value=0.),#, continuous_update=False, orientation='vertical'),\n",
    "             a2=FloatSlider(min=0., max=2., step=0.01, value=0.02),#, continuous_update=False, orientation='vertical'),\n",
    "             m2=FloatSlider(min=0., max=2., step=0.01, value=1.3),#, continuous_update=False, orientation='vertical'),\n",
    "             h2=FloatSlider(min=0., max=2., step=0.01, value=0.),#, continuous_update=False, orientation='vertical'),\n",
    "             t1_init=FloatSlider(min=0., max=2., step=0.01, value=1.0),#, continuous_update=False, orientation='vertical'),\n",
    "             t2_init=FloatSlider(min=0., max=2., step=0.01, value=1.0),#, continuous_update=False, orientation='vertical'),\n",
    "            )\n",
    "\n",
    "\n",
    "box_layout = Layout(display='flex', flex_flow='row', justify_content='space-between',\n",
    "                   align_items='center')\n",
    "\n"
   ]
  },
  {
   "cell_type": "code",
   "execution_count": null,
   "metadata": {},
   "outputs": [],
   "source": []
  },
  {
   "cell_type": "code",
   "execution_count": null,
   "metadata": {},
   "outputs": [],
   "source": []
  },
  {
   "cell_type": "code",
   "execution_count": null,
   "metadata": {},
   "outputs": [],
   "source": []
  }
 ],
 "metadata": {
  "kernelspec": {
   "display_name": "Python 3",
   "language": "python",
   "name": "python3"
  },
  "language_info": {
   "codemirror_mode": {
    "name": "ipython",
    "version": 3
   },
   "file_extension": ".py",
   "mimetype": "text/x-python",
   "name": "python",
   "nbconvert_exporter": "python",
   "pygments_lexer": "ipython3",
   "version": "3.6.9"
  }
 },
 "nbformat": 4,
 "nbformat_minor": 4
}
