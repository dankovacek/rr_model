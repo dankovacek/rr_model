{
 "cells": [
  {
   "cell_type": "code",
   "execution_count": 1,
   "metadata": {},
   "outputs": [],
   "source": [
    "import numpy as np\n",
    "import pandas as pd\n",
    "\n",
    "from ipywidgets import interact\n",
    "from ipywidgets.widgets import FloatSlider, IntSlider, Dropdown\n",
    "import matplotlib.pyplot as plt\n",
    "\n",
    "plt.ion()"
   ]
  },
  {
   "cell_type": "code",
   "execution_count": 2,
   "metadata": {},
   "outputs": [],
   "source": [
    "def calculate_S1(row):\n",
    "    if row.index == 0:\n",
    "        return t1_init\n",
    "    else:\n",
    "        return 0\n",
    "    \n",
    "def calculate_Q1(row):\n",
    "    q = a1 * (row['S1 (mm)'] - h1)**m1\n",
    "    if q > 0:\n",
    "        return q\n",
    "    else:\n",
    "        return 0\n",
    "\n",
    "def initialize_df(df):\n",
    "    # initialize the columns\n",
    "    df['S1 (mm)'] = np.nan\n",
    "    df.loc[0, 'S1 (mm)'] = t1_init\n",
    "    df['Q1 (mm/h)'] = np.nan\n",
    "    df['Q12 (mm/h)'] = np.nan\n",
    "    df['S2 (mm)'] = np.nan\n",
    "    df.loc[0, 'S2 (mm)'] = t2_init\n",
    "    df['Q2 (mm/h)'] = np.nan\n",
    "    df['Q1+Q2 (mm/h)'] = np.nan\n",
    "    return df\n"
   ]
  },
  {
   "cell_type": "markdown",
   "metadata": {},
   "source": [
    "### Interactive Inputs"
   ]
  },
  {
   "cell_type": "code",
   "execution_count": 16,
   "metadata": {},
   "outputs": [],
   "source": [
    "def update_df(a1, m1, h1, a12, m12, h12, a2, m2, h2, t1_init, t2_init):\n",
    "    df = initialize_df(pd.read_csv('data/data.csv', parse_dates=True, infer_datetime_format=True))\n",
    "    for i in range(len(df)):\n",
    "        if i == 0:\n",
    "            this_s1 = t1_init\n",
    "            this_s2 = t2_init\n",
    "\n",
    "        else:\n",
    "            q1_balance = (df.loc[i, 'Rain (mm/h)'] - df.loc[i, 'Evap (mm/h)'] - df.loc[i - 1, 'Q1 (mm/h)'] - df.loc[i - 1, 'Q12 (mm/h)'])/3\n",
    "            this_s1 = max(0, df.loc[i - 1, 'S1 (mm)'] + q1_balance)\n",
    "\n",
    "            delta_q2 = df.loc[i - 1, 'S2 (mm)'] + (df.loc[i - 1, 'Q12 (mm/h)'] - df.loc[i - 1, 'Q2 (mm/h)'])/3\n",
    "            this_s2 = max(0, delta_q2)\n",
    "\n",
    "        df.loc[i, 'S1 (mm)'] = this_s1\n",
    "        df.loc[i, 'S2 (mm)'] = this_s2\n",
    "\n",
    "        if this_s1 > h1:\n",
    "            df.loc[i, 'Q1 (mm/h)'] = a1 * (this_s1 - h1)**m1\n",
    "        else:\n",
    "            df.loc[i, 'Q1 (mm/h)'] = 0\n",
    "\n",
    "        if this_s1 > h12:\n",
    "            df.loc[i, 'Q12 (mm/h)'] = a12 * (this_s1 - h12)**m12\n",
    "        else:\n",
    "            df.loc[i, 'Q12 (mm/h)'] = 0\n",
    "\n",
    "        if this_s1 > h2:\n",
    "            df.loc[i, 'Q2 (mm/h)'] = a2 * (this_s2 - h2)**m2\n",
    "\n",
    "        df.loc[i, 'Q1+Q2 (mm/h)'] = df.loc[i, 'Q1 (mm/h)'] + df.loc[i, 'Q2 (mm/h)']\n",
    "    return df"
   ]
  },
  {
   "cell_type": "code",
   "execution_count": 21,
   "metadata": {},
   "outputs": [],
   "source": [
    "def plot_model(a1, m1, h1, a12, m12, h12, a2, m2, h2, t1_init, t2_init):\n",
    "    df = update_df(a1, m1, h1, a12, m12, h12, a2, m2, h2, t1_init, t2_init)\n",
    "    fig, ax = plt.subplots(2, 1, figsize=(16,6), sharex=True)\n",
    "    df.plot('Date', 'Runoff (mm/h)', label='Observed', ax=ax[0], title='Observed vs. Simulated Runoff')\n",
    "    df.plot('Date', 'Q1+Q2 (mm/h)', label='Simulated', ax=ax[0])\n",
    "    df.plot('Date', 'Q1 (mm/h)', label='Tank 1', ax=ax[1])\n",
    "    df.plot('Date', 'Q2 (mm/h)', label='Tank 2', ax=ax[1])\n",
    "    ax[0].set_ylabel('Runoff (mm/h)')\n",
    "    ax[1].set_ylabel('Runoff (mm/h)')\n",
    "    plt.show()\n",
    "#     return df"
   ]
  },
  {
   "cell_type": "code",
   "execution_count": 22,
   "metadata": {},
   "outputs": [
    {
     "data": {
      "application/vnd.jupyter.widget-view+json": {
       "model_id": "4a5b205c102346ceb2f754c89ae28372",
       "version_major": 2,
       "version_minor": 0
      },
      "text/plain": [
       "interactive(children=(FloatSlider(value=0.02, continuous_update=False, description='a1', max=2.0, step=0.01), …"
      ]
     },
     "metadata": {},
     "output_type": "display_data"
    }
   ],
   "source": [
    "p = interact(plot_model, \n",
    "             a1=FloatSlider(min=0., max=2., step=0.01, value=0.02, continuous_update=False), \n",
    "             m1=FloatSlider(min=0., max=2., step=0.01, value=1.5, continuous_update=False),\n",
    "             h1=FloatSlider(min=0., max=2., step=0.01, value=1.8, continuous_update=False),\n",
    "             a12=FloatSlider(min=0., max=2., step=0.01, value=0.021, continuous_update=False),\n",
    "             m12=FloatSlider(min=0., max=2., step=0.01, value=1., continuous_update=False),\n",
    "             h12=FloatSlider(min=0., max=2., step=0.01, value=0., continuous_update=False),\n",
    "             a2=FloatSlider(min=0., max=2., step=0.01, value=0.02, continuous_update=False),\n",
    "             m2=FloatSlider(min=0., max=2., step=0.01, value=1.3, continuous_update=False),\n",
    "             h2=FloatSlider(min=0., max=2., step=0.01, value=0., continuous_update=False),\n",
    "             t1_init=FloatSlider(min=0., max=2., step=0.01, value=1.0, continuous_update=False),\n",
    "             t2_init=FloatSlider(min=0., max=2., step=0.01, value=1.0, continuous_update=False),\n",
    "            )\n",
    "# p = interact(plot_model, a1=FloatSlider(0, 2), m1=FloatSlider(0, 2))"
   ]
  },
  {
   "cell_type": "code",
   "execution_count": null,
   "metadata": {},
   "outputs": [],
   "source": []
  }
 ],
 "metadata": {
  "kernelspec": {
   "display_name": "Python 3",
   "language": "python",
   "name": "python3"
  },
  "language_info": {
   "codemirror_mode": {
    "name": "ipython",
    "version": 3
   },
   "file_extension": ".py",
   "mimetype": "text/x-python",
   "name": "python",
   "nbconvert_exporter": "python",
   "pygments_lexer": "ipython3",
   "version": "3.6.8"
  }
 },
 "nbformat": 4,
 "nbformat_minor": 4
}
